{
 "metadata": {
  "language_info": {
   "codemirror_mode": {
    "name": "ipython",
    "version": 3
   },
   "file_extension": ".py",
   "mimetype": "text/x-python",
   "name": "python",
   "nbconvert_exporter": "python",
   "pygments_lexer": "ipython3",
   "version": "3.8.3-final"
  },
  "orig_nbformat": 2,
  "kernelspec": {
   "name": "python383jvsc74a57bd0fbf601031a6b81288c9820f36dc8949d2d134296d8ac1a786ba5a80b63c82383",
   "display_name": "Python 3.8.3 64-bit (conda)"
  }
 },
 "nbformat": 4,
 "nbformat_minor": 2,
 "cells": [
  {
   "source": [
    "*Data Cleaning for Covid Clinical Studies*"
   ],
   "cell_type": "markdown",
   "metadata": {}
  },
  {
   "cell_type": "code",
   "execution_count": 177,
   "metadata": {},
   "outputs": [],
   "source": [
    "import pandas as pd\n",
    "import numpy as np"
   ]
  },
  {
   "cell_type": "code",
   "execution_count": 178,
   "metadata": {},
   "outputs": [],
   "source": [
    "pd.set_option('display.max_columns', None)\n",
    "df = pd.read_csv('C:/Users/GUORUI/Desktop/Graduate Bentley-desktop/2021 Spring/MA705/ClinicalStudies.csv')"
   ]
  },
  {
   "source": [
    "**detect NA and fill NA in Phases Column **"
   ],
   "cell_type": "markdown",
   "metadata": {}
  },
  {
   "cell_type": "code",
   "execution_count": 179,
   "metadata": {},
   "outputs": [],
   "source": [
    "df.Phases = df.Phases.fillna(value = 'No Defined Phase')\n",
    "df.URL = df.URL.fillna(value = 'https://ClinicalTrials.gov/show/NCT04387656')\n",
    "#df[df.Phases.isna()]\n",
    "#df.isna().sum()"
   ]
  },
  {
   "cell_type": "code",
   "execution_count": 180,
   "metadata": {},
   "outputs": [
    {
     "output_type": "execute_result",
     "data": {
      "text/plain": [
       "1266"
      ]
     },
     "metadata": {},
     "execution_count": 180
    }
   ],
   "source": [
    "len(df)"
   ]
  },
  {
   "source": [
    "**replace values for Phases column**"
   ],
   "cell_type": "markdown",
   "metadata": {}
  },
  {
   "cell_type": "code",
   "execution_count": 181,
   "metadata": {},
   "outputs": [],
   "source": [
    "df = df.replace({'Phases': {'Not Applicable': 'No Defined Phase','Early Phase 1':'Phase 0'}})\n",
    "#df.Phases.unique()\n"
   ]
  },
  {
   "source": [
    "** create new recruiting column for Recruiting status **"
   ],
   "cell_type": "markdown",
   "metadata": {}
  },
  {
   "cell_type": "code",
   "execution_count": 182,
   "metadata": {},
   "outputs": [],
   "source": [
    "Recruiting_Status = []\n",
    "\n",
    "for row in df['Status']:\n",
    "    if row =='Recruiting':\n",
    "        Recruiting_Status.append('Recruiting')\n",
    "    elif (row =='Active, not recruiting' or row == 'Not yet recruiting' or row == 'Suspended'):\n",
    "        Recruiting_Status.append('Potential Recruiting')\n",
    "    elif row =='Available':\n",
    "        Recruiting_Status.append('Other Recruiting')\n",
    "    else:\n",
    "        Recruiting_Status.append('Not Recruiting')\n",
    "\n",
    "df['Recruiting_Status'] = Recruiting_Status"
   ]
  },
  {
   "cell_type": "code",
   "execution_count": 183,
   "metadata": {},
   "outputs": [],
   "source": [
    "#check values\n",
    "#pd.value_counts(df['Recruiting_Status'])"
   ]
  },
  {
   "cell_type": "code",
   "execution_count": 184,
   "metadata": {},
   "outputs": [],
   "source": [
    "#df = df[\"Enrollment\"].astype(int)"
   ]
  },
  {
   "source": [
    "**extract state, city and authorities**"
   ],
   "cell_type": "markdown",
   "metadata": {}
  },
  {
   "cell_type": "code",
   "execution_count": 185,
   "metadata": {},
   "outputs": [],
   "source": [
    "ldf = df.loc[:,['NCT Number','Locations']]"
   ]
  },
  {
   "source": [
    "**split multiple locations and create new row for each location**"
   ],
   "cell_type": "markdown",
   "metadata": {}
  },
  {
   "cell_type": "code",
   "execution_count": 186,
   "metadata": {},
   "outputs": [
    {
     "output_type": "execute_result",
     "data": {
      "text/plain": [
       "        NCT Number                                           Location\n",
       "0      NCT04482621  Johns Hopkins University, Baltimore, Maryland,...\n",
       "1      NCT04425538  Tufts Medical Center, Boston, Massachusetts, U...\n",
       "2      NCT04354831  Froedtert Hospital, Milwaukee, Wisconsin, Unit...\n",
       "3      NCT04388683  Tufts Medical Center, Boston, Massachusetts, U...\n",
       "4      NCT04628039  VA Puget Sound Health Care System Seattle Divi...\n",
       "...            ...                                                ...\n",
       "10245  NCT04666597   Universidad Peruana Cayetano Heredia, Lima, Peru\n",
       "10246  NCT04666597               University of Porto, Porto, Portugal\n",
       "10247  NCT04666597   University of Moscow, Moscow, Russian Federation\n",
       "10248  NCT04666597  University of Sheffield, Sheffield, United Kin...\n",
       "10249  NCT04666597  Universidad Católica de Uruguay, Buenos aires,...\n",
       "\n",
       "[10250 rows x 2 columns]"
      ],
      "text/html": "<div>\n<style scoped>\n    .dataframe tbody tr th:only-of-type {\n        vertical-align: middle;\n    }\n\n    .dataframe tbody tr th {\n        vertical-align: top;\n    }\n\n    .dataframe thead th {\n        text-align: right;\n    }\n</style>\n<table border=\"1\" class=\"dataframe\">\n  <thead>\n    <tr style=\"text-align: right;\">\n      <th></th>\n      <th>NCT Number</th>\n      <th>Location</th>\n    </tr>\n  </thead>\n  <tbody>\n    <tr>\n      <th>0</th>\n      <td>NCT04482621</td>\n      <td>Johns Hopkins University, Baltimore, Maryland,...</td>\n    </tr>\n    <tr>\n      <th>1</th>\n      <td>NCT04425538</td>\n      <td>Tufts Medical Center, Boston, Massachusetts, U...</td>\n    </tr>\n    <tr>\n      <th>2</th>\n      <td>NCT04354831</td>\n      <td>Froedtert Hospital, Milwaukee, Wisconsin, Unit...</td>\n    </tr>\n    <tr>\n      <th>3</th>\n      <td>NCT04388683</td>\n      <td>Tufts Medical Center, Boston, Massachusetts, U...</td>\n    </tr>\n    <tr>\n      <th>4</th>\n      <td>NCT04628039</td>\n      <td>VA Puget Sound Health Care System Seattle Divi...</td>\n    </tr>\n    <tr>\n      <th>...</th>\n      <td>...</td>\n      <td>...</td>\n    </tr>\n    <tr>\n      <th>10245</th>\n      <td>NCT04666597</td>\n      <td>Universidad Peruana Cayetano Heredia, Lima, Peru</td>\n    </tr>\n    <tr>\n      <th>10246</th>\n      <td>NCT04666597</td>\n      <td>University of Porto, Porto, Portugal</td>\n    </tr>\n    <tr>\n      <th>10247</th>\n      <td>NCT04666597</td>\n      <td>University of Moscow, Moscow, Russian Federation</td>\n    </tr>\n    <tr>\n      <th>10248</th>\n      <td>NCT04666597</td>\n      <td>University of Sheffield, Sheffield, United Kin...</td>\n    </tr>\n    <tr>\n      <th>10249</th>\n      <td>NCT04666597</td>\n      <td>Universidad Católica de Uruguay, Buenos aires,...</td>\n    </tr>\n  </tbody>\n</table>\n<p>10250 rows × 2 columns</p>\n</div>"
     },
     "metadata": {},
     "execution_count": 186
    }
   ],
   "source": [
    "new_ldf = pd.DataFrame(ldf.Locations.str.split('|').tolist(), index=df['NCT Number']).stack()\n",
    "new_ldf = new_ldf.reset_index([0, 'NCT Number'])\n",
    "new_ldf.columns = ['NCT Number', 'Location']\n",
    "new_ldf"
   ]
  },
  {
   "source": [
    "**merge two dataframe   **"
   ],
   "cell_type": "markdown",
   "metadata": {}
  },
  {
   "cell_type": "code",
   "execution_count": 187,
   "metadata": {},
   "outputs": [
    {
     "output_type": "execute_result",
     "data": {
      "text/plain": [
       "        NCT Number                                           Location  \\\n",
       "0      NCT04482621  Johns Hopkins University, Baltimore, Maryland,...   \n",
       "1      NCT04425538  Tufts Medical Center, Boston, Massachusetts, U...   \n",
       "2      NCT04354831  Froedtert Hospital, Milwaukee, Wisconsin, Unit...   \n",
       "3      NCT04388683  Tufts Medical Center, Boston, Massachusetts, U...   \n",
       "4      NCT04628039  VA Puget Sound Health Care System Seattle Divi...   \n",
       "...            ...                                                ...   \n",
       "10245  NCT04666597   Universidad Peruana Cayetano Heredia, Lima, Peru   \n",
       "10246  NCT04666597               University of Porto, Porto, Portugal   \n",
       "10247  NCT04666597   University of Moscow, Moscow, Russian Federation   \n",
       "10248  NCT04666597  University of Sheffield, Sheffield, United Kin...   \n",
       "10249  NCT04666597  Universidad Católica de Uruguay, Buenos aires,...   \n",
       "\n",
       "                                                   Title  \\\n",
       "0      Decitabine for Coronavirus (COVID-19) Pneumoni...   \n",
       "1      A Phase 2 Trial of Infliximab in Coronavirus D...   \n",
       "2      A Study Evaluating the Efficacy and Safety of ...   \n",
       "3      Inhaled Nitric Oxide for Preventing Progressio...   \n",
       "4      Chronic Lung Disease and COVID-19: Understandi...   \n",
       "...                                                  ...   \n",
       "10245  Pandemic-adapted Caries Care Multicentre Case ...   \n",
       "10246  Pandemic-adapted Caries Care Multicentre Case ...   \n",
       "10247  Pandemic-adapted Caries Care Multicentre Case ...   \n",
       "10248  Pandemic-adapted Caries Care Multicentre Case ...   \n",
       "10249  Pandemic-adapted Caries Care Multicentre Case ...   \n",
       "\n",
       "                       Status Gender            Phases  Enrollment  \\\n",
       "0                  Recruiting    All           Phase 2        40.0   \n",
       "1                   Completed    All           Phase 2        17.0   \n",
       "2      Active, not recruiting    All           Phase 2       131.0   \n",
       "3      Active, not recruiting    All           Phase 2        42.0   \n",
       "4          Not yet recruiting    All  No Defined Phase       506.0   \n",
       "...                       ...    ...               ...         ...   \n",
       "10245              Recruiting    All  No Defined Phase       420.0   \n",
       "10246              Recruiting    All  No Defined Phase       420.0   \n",
       "10247              Recruiting    All  No Defined Phase       420.0   \n",
       "10248              Recruiting    All  No Defined Phase       420.0   \n",
       "10249              Recruiting    All  No Defined Phase       420.0   \n",
       "\n",
       "                                               Locations  \\\n",
       "0      Johns Hopkins University, Baltimore, Maryland,...   \n",
       "1      Tufts Medical Center, Boston, Massachusetts, U...   \n",
       "2      Froedtert Hospital, Milwaukee, Wisconsin, Unit...   \n",
       "3      Tufts Medical Center, Boston, Massachusetts, U...   \n",
       "4      VA Puget Sound Health Care System Seattle Divi...   \n",
       "...                                                  ...   \n",
       "10245  Indiana University, Indianapolis, Indiana, Uni...   \n",
       "10246  Indiana University, Indianapolis, Indiana, Uni...   \n",
       "10247  Indiana University, Indianapolis, Indiana, Uni...   \n",
       "10248  Indiana University, Indianapolis, Indiana, Uni...   \n",
       "10249  Indiana University, Indianapolis, Indiana, Uni...   \n",
       "\n",
       "                                               URL     Recruiting_Status  \n",
       "0      https://ClinicalTrials.gov/show/NCT04482621            Recruiting  \n",
       "1      https://ClinicalTrials.gov/show/NCT04425538        Not Recruiting  \n",
       "2      https://ClinicalTrials.gov/show/NCT04354831  Potential Recruiting  \n",
       "3      https://ClinicalTrials.gov/show/NCT04388683  Potential Recruiting  \n",
       "4      https://ClinicalTrials.gov/show/NCT04628039  Potential Recruiting  \n",
       "...                                            ...                   ...  \n",
       "10245  https://ClinicalTrials.gov/show/NCT04666597            Recruiting  \n",
       "10246  https://ClinicalTrials.gov/show/NCT04666597            Recruiting  \n",
       "10247  https://ClinicalTrials.gov/show/NCT04666597            Recruiting  \n",
       "10248  https://ClinicalTrials.gov/show/NCT04666597            Recruiting  \n",
       "10249  https://ClinicalTrials.gov/show/NCT04666597            Recruiting  \n",
       "\n",
       "[10250 rows x 10 columns]"
      ],
      "text/html": "<div>\n<style scoped>\n    .dataframe tbody tr th:only-of-type {\n        vertical-align: middle;\n    }\n\n    .dataframe tbody tr th {\n        vertical-align: top;\n    }\n\n    .dataframe thead th {\n        text-align: right;\n    }\n</style>\n<table border=\"1\" class=\"dataframe\">\n  <thead>\n    <tr style=\"text-align: right;\">\n      <th></th>\n      <th>NCT Number</th>\n      <th>Location</th>\n      <th>Title</th>\n      <th>Status</th>\n      <th>Gender</th>\n      <th>Phases</th>\n      <th>Enrollment</th>\n      <th>Locations</th>\n      <th>URL</th>\n      <th>Recruiting_Status</th>\n    </tr>\n  </thead>\n  <tbody>\n    <tr>\n      <th>0</th>\n      <td>NCT04482621</td>\n      <td>Johns Hopkins University, Baltimore, Maryland,...</td>\n      <td>Decitabine for Coronavirus (COVID-19) Pneumoni...</td>\n      <td>Recruiting</td>\n      <td>All</td>\n      <td>Phase 2</td>\n      <td>40.0</td>\n      <td>Johns Hopkins University, Baltimore, Maryland,...</td>\n      <td>https://ClinicalTrials.gov/show/NCT04482621</td>\n      <td>Recruiting</td>\n    </tr>\n    <tr>\n      <th>1</th>\n      <td>NCT04425538</td>\n      <td>Tufts Medical Center, Boston, Massachusetts, U...</td>\n      <td>A Phase 2 Trial of Infliximab in Coronavirus D...</td>\n      <td>Completed</td>\n      <td>All</td>\n      <td>Phase 2</td>\n      <td>17.0</td>\n      <td>Tufts Medical Center, Boston, Massachusetts, U...</td>\n      <td>https://ClinicalTrials.gov/show/NCT04425538</td>\n      <td>Not Recruiting</td>\n    </tr>\n    <tr>\n      <th>2</th>\n      <td>NCT04354831</td>\n      <td>Froedtert Hospital, Milwaukee, Wisconsin, Unit...</td>\n      <td>A Study Evaluating the Efficacy and Safety of ...</td>\n      <td>Active, not recruiting</td>\n      <td>All</td>\n      <td>Phase 2</td>\n      <td>131.0</td>\n      <td>Froedtert Hospital, Milwaukee, Wisconsin, Unit...</td>\n      <td>https://ClinicalTrials.gov/show/NCT04354831</td>\n      <td>Potential Recruiting</td>\n    </tr>\n    <tr>\n      <th>3</th>\n      <td>NCT04388683</td>\n      <td>Tufts Medical Center, Boston, Massachusetts, U...</td>\n      <td>Inhaled Nitric Oxide for Preventing Progressio...</td>\n      <td>Active, not recruiting</td>\n      <td>All</td>\n      <td>Phase 2</td>\n      <td>42.0</td>\n      <td>Tufts Medical Center, Boston, Massachusetts, U...</td>\n      <td>https://ClinicalTrials.gov/show/NCT04388683</td>\n      <td>Potential Recruiting</td>\n    </tr>\n    <tr>\n      <th>4</th>\n      <td>NCT04628039</td>\n      <td>VA Puget Sound Health Care System Seattle Divi...</td>\n      <td>Chronic Lung Disease and COVID-19: Understandi...</td>\n      <td>Not yet recruiting</td>\n      <td>All</td>\n      <td>No Defined Phase</td>\n      <td>506.0</td>\n      <td>VA Puget Sound Health Care System Seattle Divi...</td>\n      <td>https://ClinicalTrials.gov/show/NCT04628039</td>\n      <td>Potential Recruiting</td>\n    </tr>\n    <tr>\n      <th>...</th>\n      <td>...</td>\n      <td>...</td>\n      <td>...</td>\n      <td>...</td>\n      <td>...</td>\n      <td>...</td>\n      <td>...</td>\n      <td>...</td>\n      <td>...</td>\n      <td>...</td>\n    </tr>\n    <tr>\n      <th>10245</th>\n      <td>NCT04666597</td>\n      <td>Universidad Peruana Cayetano Heredia, Lima, Peru</td>\n      <td>Pandemic-adapted Caries Care Multicentre Case ...</td>\n      <td>Recruiting</td>\n      <td>All</td>\n      <td>No Defined Phase</td>\n      <td>420.0</td>\n      <td>Indiana University, Indianapolis, Indiana, Uni...</td>\n      <td>https://ClinicalTrials.gov/show/NCT04666597</td>\n      <td>Recruiting</td>\n    </tr>\n    <tr>\n      <th>10246</th>\n      <td>NCT04666597</td>\n      <td>University of Porto, Porto, Portugal</td>\n      <td>Pandemic-adapted Caries Care Multicentre Case ...</td>\n      <td>Recruiting</td>\n      <td>All</td>\n      <td>No Defined Phase</td>\n      <td>420.0</td>\n      <td>Indiana University, Indianapolis, Indiana, Uni...</td>\n      <td>https://ClinicalTrials.gov/show/NCT04666597</td>\n      <td>Recruiting</td>\n    </tr>\n    <tr>\n      <th>10247</th>\n      <td>NCT04666597</td>\n      <td>University of Moscow, Moscow, Russian Federation</td>\n      <td>Pandemic-adapted Caries Care Multicentre Case ...</td>\n      <td>Recruiting</td>\n      <td>All</td>\n      <td>No Defined Phase</td>\n      <td>420.0</td>\n      <td>Indiana University, Indianapolis, Indiana, Uni...</td>\n      <td>https://ClinicalTrials.gov/show/NCT04666597</td>\n      <td>Recruiting</td>\n    </tr>\n    <tr>\n      <th>10248</th>\n      <td>NCT04666597</td>\n      <td>University of Sheffield, Sheffield, United Kin...</td>\n      <td>Pandemic-adapted Caries Care Multicentre Case ...</td>\n      <td>Recruiting</td>\n      <td>All</td>\n      <td>No Defined Phase</td>\n      <td>420.0</td>\n      <td>Indiana University, Indianapolis, Indiana, Uni...</td>\n      <td>https://ClinicalTrials.gov/show/NCT04666597</td>\n      <td>Recruiting</td>\n    </tr>\n    <tr>\n      <th>10249</th>\n      <td>NCT04666597</td>\n      <td>Universidad Católica de Uruguay, Buenos aires,...</td>\n      <td>Pandemic-adapted Caries Care Multicentre Case ...</td>\n      <td>Recruiting</td>\n      <td>All</td>\n      <td>No Defined Phase</td>\n      <td>420.0</td>\n      <td>Indiana University, Indianapolis, Indiana, Uni...</td>\n      <td>https://ClinicalTrials.gov/show/NCT04666597</td>\n      <td>Recruiting</td>\n    </tr>\n  </tbody>\n</table>\n<p>10250 rows × 10 columns</p>\n</div>"
     },
     "metadata": {},
     "execution_count": 187
    }
   ],
   "source": [
    "#combine new location dataframe with the entire df\n",
    "df = pd.merge(new_ldf,df,how='left',on = 'NCT Number')\n",
    "df"
   ]
  },
  {
   "cell_type": "code",
   "execution_count": 188,
   "metadata": {},
   "outputs": [],
   "source": [
    "#new[new['NCT Number']== 'NCT04326309']"
   ]
  },
  {
   "cell_type": "code",
   "execution_count": 189,
   "metadata": {},
   "outputs": [
    {
     "output_type": "execute_result",
     "data": {
      "text/plain": [
       "NCT Number             0\n",
       "Location               0\n",
       "Title                  0\n",
       "Status                 0\n",
       "Gender                 0\n",
       "Phases                 0\n",
       "Enrollment           411\n",
       "Locations              0\n",
       "URL                    0\n",
       "Recruiting_Status      0\n",
       "dtype: int64"
      ]
     },
     "metadata": {},
     "execution_count": 189
    }
   ],
   "source": [
    "df.isna().sum()"
   ]
  },
  {
   "cell_type": "code",
   "execution_count": 190,
   "metadata": {},
   "outputs": [
    {
     "output_type": "execute_result",
     "data": {
      "text/plain": [
       "9830     United States\n",
       "Name: Location, dtype: object"
      ]
     },
     "metadata": {},
     "execution_count": 190
    }
   ],
   "source": [
    "df[df['NCT Number']== 'NCT04326309'].Location.str.rsplit(',').str[-1]"
   ]
  },
  {
   "source": [
    "**split location, find countries**"
   ],
   "cell_type": "markdown",
   "metadata": {}
  },
  {
   "cell_type": "code",
   "execution_count": 191,
   "metadata": {},
   "outputs": [],
   "source": [
    "df['Country'] = df['Location'].str.rsplit(', ').str[-1]"
   ]
  },
  {
   "cell_type": "code",
   "execution_count": 192,
   "metadata": {},
   "outputs": [
    {
     "output_type": "execute_result",
     "data": {
      "text/plain": [
       "array(['United States', 'United Kingdom', 'Canada', 'Spain', 'India',\n",
       "       'Sweden', 'Uganda', 'Mexico', 'Egypt', 'Islamic Republic of',\n",
       "       'Brazil', 'Puerto Rico', 'Germany', 'Hungary', 'Belgium', 'France',\n",
       "       'Argentina', 'Chile', 'South Africa', 'Ukraine', 'Romania',\n",
       "       'Netherlands', 'Switzerland', 'Denmark', 'Republic of', 'Japan',\n",
       "       'Singapore', 'Greece', 'Peru', 'Colombia', 'Russian Federation',\n",
       "       'Italy', 'China', 'Hong Kong', 'Taiwan', 'Portugal', 'Bulgaria',\n",
       "       'Ireland', 'Poland', 'Kenya', 'Turkey', 'Austria', 'Israel',\n",
       "       'Finland', 'Philippines', 'Honduras', 'Australia', 'Malawi',\n",
       "       'Zambia', 'Zimbabwe', 'Saint Lou', 'Botswana', 'Mozambique',\n",
       "       'Tanzania', 'Afghanistan', 'Djibouti', 'Guam', 'Iraq', 'Kuwait',\n",
       "       'Cyprus', 'Czechia', 'Estonia', 'Iceland', 'Lithuania', 'Slovakia',\n",
       "       'Slovenia', 'Serbia', 'Bolivia', 'New Zealand', 'Nigeria', 'Ghana',\n",
       "       'Croatia', 'Ethiopia', 'Armenia', 'Costa Rica', 'Guatemala',\n",
       "       'Lebanon', 'Saudi Arabia', 'Tunisia', 'Venezuela', 'Albania',\n",
       "       'Norway', 'Oman', 'Dominican Republic', 'Uruguay'], dtype=object)"
      ]
     },
     "metadata": {},
     "execution_count": 192
    }
   ],
   "source": [
    "df['Country'].unique()"
   ]
  },
  {
   "source": [
    "**only keep studies in United States**"
   ],
   "cell_type": "markdown",
   "metadata": {}
  },
  {
   "cell_type": "code",
   "execution_count": 193,
   "metadata": {},
   "outputs": [
    {
     "output_type": "execute_result",
     "data": {
      "text/plain": [
       "7625"
      ]
     },
     "metadata": {},
     "execution_count": 193
    }
   ],
   "source": [
    "df = df.loc[df['Country']=='United States']\n",
    "#only contain united states\n",
    "len(df)"
   ]
  },
  {
   "source": [
    "**split location, find states,cities,authorities**"
   ],
   "cell_type": "markdown",
   "metadata": {}
  },
  {
   "cell_type": "code",
   "execution_count": 194,
   "metadata": {},
   "outputs": [
    {
     "output_type": "stream",
     "name": "stderr",
     "text": [
      "<ipython-input-194-847f2eae1c83>:1: SettingWithCopyWarning: \nA value is trying to be set on a copy of a slice from a DataFrame.\nTry using .loc[row_indexer,col_indexer] = value instead\n\nSee the caveats in the documentation: https://pandas.pydata.org/pandas-docs/stable/user_guide/indexing.html#returning-a-view-versus-a-copy\n  df['State'] = df['Location'].str.rsplit(', ').str[-2]\n<ipython-input-194-847f2eae1c83>:2: SettingWithCopyWarning: \nA value is trying to be set on a copy of a slice from a DataFrame.\nTry using .loc[row_indexer,col_indexer] = value instead\n\nSee the caveats in the documentation: https://pandas.pydata.org/pandas-docs/stable/user_guide/indexing.html#returning-a-view-versus-a-copy\n  df['City'] = df['Location'].str.rsplit(', ').str[-3]\n<ipython-input-194-847f2eae1c83>:3: SettingWithCopyWarning: \nA value is trying to be set on a copy of a slice from a DataFrame.\nTry using .loc[row_indexer,col_indexer] = value instead\n\nSee the caveats in the documentation: https://pandas.pydata.org/pandas-docs/stable/user_guide/indexing.html#returning-a-view-versus-a-copy\n  df['Authority'] = df['Location'].str.split(', ').str[0]\n"
     ]
    }
   ],
   "source": [
    "df['State'] = df['Location'].str.rsplit(', ').str[-2]\n",
    "df['City'] = df['Location'].str.rsplit(', ').str[-3]\n",
    "df['Authority'] = df['Location'].str.split(', ').str[0]"
   ]
  },
  {
   "source": [
    "**replace values for Phases column**"
   ],
   "cell_type": "markdown",
   "metadata": {}
  },
  {
   "cell_type": "code",
   "execution_count": 195,
   "metadata": {},
   "outputs": [],
   "source": [
    "df = df.replace({'Phases': {'Phase 1|Phase 2': 'Phase 1 and Phase 2','Phase 2|Phase 3':'Phase 2 and Phase 3'}})\n",
    "#df.Phases.unique()"
   ]
  },
  {
   "source": [
    "**replace values for Gender column**"
   ],
   "cell_type": "markdown",
   "metadata": {}
  },
  {
   "cell_type": "code",
   "execution_count": 196,
   "metadata": {},
   "outputs": [],
   "source": [
    "df = df.replace({'Gender': {'Female': 'Female Only','Male':'Male Only'}})\n",
    "#df.Gender.unique()"
   ]
  },
  {
   "cell_type": "code",
   "execution_count": 197,
   "metadata": {},
   "outputs": [
    {
     "output_type": "execute_result",
     "data": {
      "text/plain": [
       "NCT Number             0\n",
       "Location               0\n",
       "Title                  0\n",
       "Status                 0\n",
       "Gender                 0\n",
       "Phases                 0\n",
       "Enrollment           279\n",
       "Locations              0\n",
       "URL                    0\n",
       "Recruiting_Status      0\n",
       "Country                0\n",
       "State                  0\n",
       "City                   0\n",
       "Authority              0\n",
       "dtype: int64"
      ]
     },
     "metadata": {},
     "execution_count": 197
    }
   ],
   "source": [
    "df.isna().sum()"
   ]
  },
  {
   "cell_type": "code",
   "execution_count": 198,
   "metadata": {},
   "outputs": [
    {
     "output_type": "execute_result",
     "data": {
      "text/plain": [
       "7625"
      ]
     },
     "metadata": {},
     "execution_count": 198
    }
   ],
   "source": [
    "len(df)"
   ]
  },
  {
   "cell_type": "code",
   "execution_count": 199,
   "metadata": {},
   "outputs": [],
   "source": [
    "df = df.drop(['Location', 'Locations'], axis=1)"
   ]
  },
  {
   "cell_type": "code",
   "execution_count": 200,
   "metadata": {},
   "outputs": [
    {
     "output_type": "stream",
     "name": "stdout",
     "text": [
      "<class 'pandas.core.frame.DataFrame'>\nInt64Index: 7625 entries, 0 to 10230\nData columns (total 12 columns):\n #   Column             Non-Null Count  Dtype  \n---  ------             --------------  -----  \n 0   NCT Number         7625 non-null   object \n 1   Title              7625 non-null   object \n 2   Status             7625 non-null   object \n 3   Gender             7625 non-null   object \n 4   Phases             7625 non-null   object \n 5   Enrollment         7346 non-null   float64\n 6   URL                7625 non-null   object \n 7   Recruiting_Status  7625 non-null   object \n 8   Country            7625 non-null   object \n 9   State              7625 non-null   object \n 10  City               7625 non-null   object \n 11  Authority          7625 non-null   object \ndtypes: float64(1), object(11)\nmemory usage: 774.4+ KB\n"
     ]
    }
   ],
   "source": [
    "df.info()"
   ]
  },
  {
   "cell_type": "code",
   "execution_count": 201,
   "metadata": {},
   "outputs": [
    {
     "output_type": "execute_result",
     "data": {
      "text/plain": [
       "        NCT Number                                              Title  \\\n",
       "10192  NCT03474965  Study of Dose Confirmation and Safety of Criza...   \n",
       "10193  NCT03474965  Study of Dose Confirmation and Safety of Criza...   \n",
       "10194  NCT03474965  Study of Dose Confirmation and Safety of Criza...   \n",
       "10229  NCT04666597  Pandemic-adapted Caries Care Multicentre Case ...   \n",
       "10230  NCT04666597  Pandemic-adapted Caries Care Multicentre Case ...   \n",
       "\n",
       "           Status Gender            Phases  Enrollment  \\\n",
       "10192  Recruiting    All           Phase 2       100.0   \n",
       "10193  Recruiting    All           Phase 2       100.0   \n",
       "10194  Recruiting    All           Phase 2       100.0   \n",
       "10229  Recruiting    All  No Defined Phase       420.0   \n",
       "10230  Recruiting    All  No Defined Phase       420.0   \n",
       "\n",
       "                                               URL Recruiting_Status  \\\n",
       "10192  https://ClinicalTrials.gov/show/NCT03474965        Recruiting   \n",
       "10193  https://ClinicalTrials.gov/show/NCT03474965        Recruiting   \n",
       "10194  https://ClinicalTrials.gov/show/NCT03474965        Recruiting   \n",
       "10229  https://ClinicalTrials.gov/show/NCT04666597        Recruiting   \n",
       "10230  https://ClinicalTrials.gov/show/NCT04666597        Recruiting   \n",
       "\n",
       "             Country           State          City  \\\n",
       "10192  United States  South Carolina    Charleston   \n",
       "10193  United States       Tennessee       Memphis   \n",
       "10194  United States           Texas    Fort Worth   \n",
       "10229  United States         Indiana  Indianapolis   \n",
       "10230  United States   Massachusetts        Boston   \n",
       "\n",
       "                                               Authority  \n",
       "10192  Medical University of South Carolina Medical U...  \n",
       "10193              St. Jude Children's Research Hosptial  \n",
       "10194             Cook Childrens Medical Center Oncology  \n",
       "10229                                 Indiana University  \n",
       "10230                                   Tufts University  "
      ],
      "text/html": "<div>\n<style scoped>\n    .dataframe tbody tr th:only-of-type {\n        vertical-align: middle;\n    }\n\n    .dataframe tbody tr th {\n        vertical-align: top;\n    }\n\n    .dataframe thead th {\n        text-align: right;\n    }\n</style>\n<table border=\"1\" class=\"dataframe\">\n  <thead>\n    <tr style=\"text-align: right;\">\n      <th></th>\n      <th>NCT Number</th>\n      <th>Title</th>\n      <th>Status</th>\n      <th>Gender</th>\n      <th>Phases</th>\n      <th>Enrollment</th>\n      <th>URL</th>\n      <th>Recruiting_Status</th>\n      <th>Country</th>\n      <th>State</th>\n      <th>City</th>\n      <th>Authority</th>\n    </tr>\n  </thead>\n  <tbody>\n    <tr>\n      <th>10192</th>\n      <td>NCT03474965</td>\n      <td>Study of Dose Confirmation and Safety of Criza...</td>\n      <td>Recruiting</td>\n      <td>All</td>\n      <td>Phase 2</td>\n      <td>100.0</td>\n      <td>https://ClinicalTrials.gov/show/NCT03474965</td>\n      <td>Recruiting</td>\n      <td>United States</td>\n      <td>South Carolina</td>\n      <td>Charleston</td>\n      <td>Medical University of South Carolina Medical U...</td>\n    </tr>\n    <tr>\n      <th>10193</th>\n      <td>NCT03474965</td>\n      <td>Study of Dose Confirmation and Safety of Criza...</td>\n      <td>Recruiting</td>\n      <td>All</td>\n      <td>Phase 2</td>\n      <td>100.0</td>\n      <td>https://ClinicalTrials.gov/show/NCT03474965</td>\n      <td>Recruiting</td>\n      <td>United States</td>\n      <td>Tennessee</td>\n      <td>Memphis</td>\n      <td>St. Jude Children's Research Hosptial</td>\n    </tr>\n    <tr>\n      <th>10194</th>\n      <td>NCT03474965</td>\n      <td>Study of Dose Confirmation and Safety of Criza...</td>\n      <td>Recruiting</td>\n      <td>All</td>\n      <td>Phase 2</td>\n      <td>100.0</td>\n      <td>https://ClinicalTrials.gov/show/NCT03474965</td>\n      <td>Recruiting</td>\n      <td>United States</td>\n      <td>Texas</td>\n      <td>Fort Worth</td>\n      <td>Cook Childrens Medical Center Oncology</td>\n    </tr>\n    <tr>\n      <th>10229</th>\n      <td>NCT04666597</td>\n      <td>Pandemic-adapted Caries Care Multicentre Case ...</td>\n      <td>Recruiting</td>\n      <td>All</td>\n      <td>No Defined Phase</td>\n      <td>420.0</td>\n      <td>https://ClinicalTrials.gov/show/NCT04666597</td>\n      <td>Recruiting</td>\n      <td>United States</td>\n      <td>Indiana</td>\n      <td>Indianapolis</td>\n      <td>Indiana University</td>\n    </tr>\n    <tr>\n      <th>10230</th>\n      <td>NCT04666597</td>\n      <td>Pandemic-adapted Caries Care Multicentre Case ...</td>\n      <td>Recruiting</td>\n      <td>All</td>\n      <td>No Defined Phase</td>\n      <td>420.0</td>\n      <td>https://ClinicalTrials.gov/show/NCT04666597</td>\n      <td>Recruiting</td>\n      <td>United States</td>\n      <td>Massachusetts</td>\n      <td>Boston</td>\n      <td>Tufts University</td>\n    </tr>\n  </tbody>\n</table>\n</div>"
     },
     "metadata": {},
     "execution_count": 201
    }
   ],
   "source": [
    "df.tail()"
   ]
  },
  {
   "cell_type": "code",
   "execution_count": 202,
   "metadata": {},
   "outputs": [],
   "source": [
    "df.to_pickle('covid_studies.pkl')"
   ]
  },
  {
   "cell_type": "code",
   "execution_count": null,
   "metadata": {},
   "outputs": [],
   "source": []
  }
 ]
}